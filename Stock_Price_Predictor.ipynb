{
  "nbformat": 4,
  "nbformat_minor": 0,
  "metadata": {
    "colab": {
      "name": "Stock Price Predictor",
      "provenance": [],
      "collapsed_sections": [],
      "authorship_tag": "ABX9TyPhEhJh/rlflcVxX5heQLm/",
      "include_colab_link": true
    },
    "kernelspec": {
      "name": "python3",
      "display_name": "Python 3"
    },
    "language_info": {
      "name": "python"
    }
  },
  "cells": [
    {
      "cell_type": "markdown",
      "metadata": {
        "id": "view-in-github",
        "colab_type": "text"
      },
      "source": [
        "<a href=\"https://colab.research.google.com/github/godnik0154/Stock-Price-Predictor/blob/main/Stock_Price_Predictor.ipynb\" target=\"_parent\"><img src=\"https://colab.research.google.com/assets/colab-badge.svg\" alt=\"Open In Colab\"/></a>"
      ]
    },
    {
      "cell_type": "markdown",
      "metadata": {
        "id": "xl5Qh-eq54bD"
      },
      "source": [
        "#**Importing all necessary libraries**"
      ]
    },
    {
      "cell_type": "code",
      "metadata": {
        "colab": {
          "base_uri": "https://localhost:8080/"
        },
        "id": "cxiDHKugoXOV",
        "outputId": "d2d49a5b-1675-499b-fef9-2e5000931172"
      },
      "source": [
        "pip install yfinance"
      ],
      "execution_count": null,
      "outputs": [
        {
          "output_type": "stream",
          "text": [
            "Collecting yfinance\n",
            "  Downloading yfinance-0.1.63.tar.gz (26 kB)\n",
            "Requirement already satisfied: pandas>=0.24 in /usr/local/lib/python3.7/dist-packages (from yfinance) (1.1.5)\n",
            "Requirement already satisfied: numpy>=1.15 in /usr/local/lib/python3.7/dist-packages (from yfinance) (1.19.5)\n",
            "Requirement already satisfied: requests>=2.20 in /usr/local/lib/python3.7/dist-packages (from yfinance) (2.23.0)\n",
            "Requirement already satisfied: multitasking>=0.0.7 in /usr/local/lib/python3.7/dist-packages (from yfinance) (0.0.9)\n",
            "Collecting lxml>=4.5.1\n",
            "  Downloading lxml-4.6.3-cp37-cp37m-manylinux2014_x86_64.whl (6.3 MB)\n",
            "\u001b[K     |████████████████████████████████| 6.3 MB 7.8 MB/s \n",
            "\u001b[?25hRequirement already satisfied: pytz>=2017.2 in /usr/local/lib/python3.7/dist-packages (from pandas>=0.24->yfinance) (2018.9)\n",
            "Requirement already satisfied: python-dateutil>=2.7.3 in /usr/local/lib/python3.7/dist-packages (from pandas>=0.24->yfinance) (2.8.1)\n",
            "Requirement already satisfied: six>=1.5 in /usr/local/lib/python3.7/dist-packages (from python-dateutil>=2.7.3->pandas>=0.24->yfinance) (1.15.0)\n",
            "Requirement already satisfied: certifi>=2017.4.17 in /usr/local/lib/python3.7/dist-packages (from requests>=2.20->yfinance) (2021.5.30)\n",
            "Requirement already satisfied: idna<3,>=2.5 in /usr/local/lib/python3.7/dist-packages (from requests>=2.20->yfinance) (2.10)\n",
            "Requirement already satisfied: chardet<4,>=3.0.2 in /usr/local/lib/python3.7/dist-packages (from requests>=2.20->yfinance) (3.0.4)\n",
            "Requirement already satisfied: urllib3!=1.25.0,!=1.25.1,<1.26,>=1.21.1 in /usr/local/lib/python3.7/dist-packages (from requests>=2.20->yfinance) (1.24.3)\n",
            "Building wheels for collected packages: yfinance\n",
            "  Building wheel for yfinance (setup.py) ... \u001b[?25l\u001b[?25hdone\n",
            "  Created wheel for yfinance: filename=yfinance-0.1.63-py2.py3-none-any.whl size=23919 sha256=9773eb67bf9a8c5876d2effb53334786ba76b6e4c15264e747f15d097fff8e15\n",
            "  Stored in directory: /root/.cache/pip/wheels/fe/87/8b/7ec24486e001d3926537f5f7801f57a74d181be25b11157983\n",
            "Successfully built yfinance\n",
            "Installing collected packages: lxml, yfinance\n",
            "  Attempting uninstall: lxml\n",
            "    Found existing installation: lxml 4.2.6\n",
            "    Uninstalling lxml-4.2.6:\n",
            "      Successfully uninstalled lxml-4.2.6\n",
            "Successfully installed lxml-4.6.3 yfinance-0.1.63\n"
          ],
          "name": "stdout"
        }
      ]
    },
    {
      "cell_type": "code",
      "metadata": {
        "id": "rNd8QpS8pDRQ"
      },
      "source": [
        "import pandas as pd\n",
        "import numpy as np\n",
        "import math \n",
        "import seaborn as sns \n",
        "import matplotlib.pyplot as plt\n",
        "from sklearn import metrics\n",
        "from sklearn.model_selection import train_test_split\n",
        "import yfinance as yf  # We will use this library to upload latest data from Yahoo API\n",
        "%matplotlib inline\n",
        "plt.style.use('fivethirtyeight')"
      ],
      "execution_count": null,
      "outputs": []
    },
    {
      "cell_type": "markdown",
      "metadata": {
        "id": "kU81a5Kz6ulK"
      },
      "source": [
        "#**Data collection and exploration**"
      ]
    },
    {
      "cell_type": "code",
      "metadata": {
        "colab": {
          "base_uri": "https://localhost:8080/"
        },
        "id": "d03Odh8gqGVV",
        "outputId": "ea95b80e-5ac3-4bd7-8ae3-25fad838a56d"
      },
      "source": [
        "# define the ticker you will use\n",
        "nio = yf.Ticker('HDFC')\n",
        "#Display stock information, it will give you a summary description of the ticker\n",
        "nio.info"
      ],
      "execution_count": null,
      "outputs": [
        {
          "output_type": "execute_result",
          "data": {
            "text/plain": [
              "{'52WeekChange': 2.5695143,\n",
              " 'SandP52WeekChange': 0.3509593,\n",
              " 'address1': 'Building 20',\n",
              " 'address2': 'No. 56 AnTuo Road Anting Town Jiading District',\n",
              " 'algorithm': None,\n",
              " 'annualHoldingsTurnover': None,\n",
              " 'annualReportExpenseRatio': None,\n",
              " 'ask': 44.99,\n",
              " 'askSize': 1200,\n",
              " 'averageDailyVolume10Day': 56191987,\n",
              " 'averageVolume': 65723317,\n",
              " 'averageVolume10days': 56191987,\n",
              " 'beta': 2.564392,\n",
              " 'beta3Year': None,\n",
              " 'bid': 44.98,\n",
              " 'bidSize': 1300,\n",
              " 'bookValue': 17.283,\n",
              " 'category': None,\n",
              " 'circulatingSupply': None,\n",
              " 'city': 'Shanghai',\n",
              " 'companyOfficers': [],\n",
              " 'country': 'China',\n",
              " 'currency': 'USD',\n",
              " 'currentPrice': 44.965,\n",
              " 'currentRatio': 3.06,\n",
              " 'dateShortInterest': 1626307200,\n",
              " 'dayHigh': 45.2,\n",
              " 'dayLow': 41.54,\n",
              " 'debtToEquity': 50.446,\n",
              " 'dividendRate': None,\n",
              " 'dividendYield': None,\n",
              " 'earningsGrowth': None,\n",
              " 'earningsQuarterlyGrowth': None,\n",
              " 'ebitda': -2301369088,\n",
              " 'ebitdaMargins': -0.10063,\n",
              " 'enterpriseToEbitda': -15.936,\n",
              " 'enterpriseToRevenue': 1.604,\n",
              " 'enterpriseValue': 36675444736,\n",
              " 'exDividendDate': None,\n",
              " 'exchange': 'NYQ',\n",
              " 'exchangeTimezoneName': 'America/New_York',\n",
              " 'exchangeTimezoneShortName': 'EDT',\n",
              " 'expireDate': None,\n",
              " 'fiftyDayAverage': 45.71,\n",
              " 'fiftyTwoWeekHigh': 66.99,\n",
              " 'fiftyTwoWeekLow': 11.73,\n",
              " 'financialCurrency': 'CNY',\n",
              " 'fiveYearAverageReturn': None,\n",
              " 'fiveYearAvgDividendYield': None,\n",
              " 'floatShares': 1257038780,\n",
              " 'forwardEps': -0.08,\n",
              " 'forwardPE': -562.0625,\n",
              " 'freeCashflow': None,\n",
              " 'fromCurrency': None,\n",
              " 'fullTimeEmployees': 7763,\n",
              " 'fundFamily': None,\n",
              " 'fundInceptionDate': None,\n",
              " 'gmtOffSetMilliseconds': '-14400000',\n",
              " 'grossMargins': 0.15722999,\n",
              " 'grossProfits': 1873419000,\n",
              " 'heldPercentInsiders': 0.00533,\n",
              " 'heldPercentInstitutions': 0.35863,\n",
              " 'impliedSharesOutstanding': None,\n",
              " 'industry': 'Auto Manufacturers',\n",
              " 'isEsgPopulated': False,\n",
              " 'lastCapGain': None,\n",
              " 'lastDividendDate': None,\n",
              " 'lastDividendValue': None,\n",
              " 'lastFiscalYearEnd': 1609372800,\n",
              " 'lastMarket': None,\n",
              " 'lastSplitDate': None,\n",
              " 'lastSplitFactor': None,\n",
              " 'legalType': None,\n",
              " 'logo_url': 'https://logo.clearbit.com/nio.com',\n",
              " 'longBusinessSummary': 'NIO Inc. designs, develops, manufactures, and sells smart electric vehicles in China. The company offers five, six, and seven-seater electric SUVs, as well as smart electric sedans. It is also involved in the provision of energy and service packages to its users; marketing, design, and technology development activities; manufacture of e-powertrains, battery packs, and components; and sales and after sales management activities. In addition, the company offers power solutions, including Power Home, a home charging solution; Power Swap, a battery swapping service; Public Charger, a public fast charging solution; Power Mobile, a mobile charging service through charging vans; Power Map, an application that provides access to a network of public chargers and their real-time information; and One Click for Power valet service, where it offers vehicle pick up, charging, and return services. Further, it provides repair, maintenance, and bodywork services through its NIO service centers and authorized third-party service centers; statutory and third-party liability insurance, and vehicle damage insurance through third-party insurers; courtesy car services; and roadside assistance, as well as data packages; and auto financing services. Additionally, the company offers NIO Certified, a used vehicle inspection, evaluation, acquisition, and sales service. NIO Inc. has a strategic collaboration with Mobileye N.V. for the development of automated and autonomous vehicles for consumer markets. The company was formerly known as NextEV Inc. and changed its name to NIO Inc. in July 2017. NIO Inc. was founded in 2014 and is headquartered in Shanghai, China.',\n",
              " 'longName': 'NIO Inc.',\n",
              " 'market': 'us_market',\n",
              " 'marketCap': 73676054528,\n",
              " 'maxAge': 1,\n",
              " 'maxSupply': None,\n",
              " 'messageBoardId': 'finmb_311626862',\n",
              " 'morningStarOverallRating': None,\n",
              " 'morningStarRiskRating': None,\n",
              " 'mostRecentQuarter': 1617148800,\n",
              " 'navPrice': None,\n",
              " 'netIncomeToCommon': -8762912768,\n",
              " 'nextFiscalYearEnd': 1672444800,\n",
              " 'numberOfAnalystOpinions': 20,\n",
              " 'open': 42.23,\n",
              " 'openInterest': None,\n",
              " 'operatingCashflow': None,\n",
              " 'operatingMargins': -0.14576,\n",
              " 'payoutRatio': 0,\n",
              " 'pegRatio': 4020.2,\n",
              " 'phone': '86 21 6908 2018',\n",
              " 'previousClose': 42.62,\n",
              " 'priceHint': 2,\n",
              " 'priceToBook': 2.6016893,\n",
              " 'priceToSalesTrailing12Months': 3.221753,\n",
              " 'profitMargins': -0.38319,\n",
              " 'quickRatio': 2.872,\n",
              " 'quoteType': 'EQUITY',\n",
              " 'recommendationKey': 'buy',\n",
              " 'recommendationMean': 2,\n",
              " 'regularMarketDayHigh': 45.2,\n",
              " 'regularMarketDayLow': 41.54,\n",
              " 'regularMarketOpen': 42.23,\n",
              " 'regularMarketPreviousClose': 42.62,\n",
              " 'regularMarketPrice': 44.965,\n",
              " 'regularMarketVolume': 29219116,\n",
              " 'returnOnAssets': -0.0545,\n",
              " 'returnOnEquity': -0.7343,\n",
              " 'revenueGrowth': 4.818,\n",
              " 'revenuePerShare': 17.44,\n",
              " 'revenueQuarterlyGrowth': None,\n",
              " 'sector': 'Consumer Cyclical',\n",
              " 'sharesOutstanding': 1638520064,\n",
              " 'sharesPercentSharesOut': 0.037100002,\n",
              " 'sharesShort': 60747412,\n",
              " 'sharesShortPreviousMonthDate': 1623715200,\n",
              " 'sharesShortPriorMonth': 62004328,\n",
              " 'shortName': 'NIO Inc.',\n",
              " 'shortPercentOfFloat': None,\n",
              " 'shortRatio': 0.93,\n",
              " 'startDate': None,\n",
              " 'strikePrice': None,\n",
              " 'symbol': 'NIO',\n",
              " 'targetHighPrice': 92.14,\n",
              " 'targetLowPrice': 13.02,\n",
              " 'targetMeanPrice': 55.74,\n",
              " 'targetMedianPrice': 59.59,\n",
              " 'threeYearAverageReturn': None,\n",
              " 'toCurrency': None,\n",
              " 'totalAssets': None,\n",
              " 'totalCash': 47229267968,\n",
              " 'totalCashPerShare': 30.433,\n",
              " 'totalDebt': 15355103232,\n",
              " 'totalRevenue': 22868314112,\n",
              " 'tradeable': False,\n",
              " 'trailingAnnualDividendRate': None,\n",
              " 'trailingAnnualDividendYield': None,\n",
              " 'trailingEps': -1.025,\n",
              " 'twoHundredDayAverage': 45.05698,\n",
              " 'volume': 29219116,\n",
              " 'volume24Hr': None,\n",
              " 'volumeAllCurrencies': None,\n",
              " 'website': 'http://www.nio.com',\n",
              " 'yield': None,\n",
              " 'ytdReturn': None,\n",
              " 'zip': '201804'}"
            ]
          },
          "metadata": {
            "tags": []
          },
          "execution_count": 5
        }
      ]
    },
    {
      "cell_type": "markdown",
      "metadata": {
        "id": "qV2jHRGt7B_R"
      },
      "source": [
        "#**Data preparation and cleaning for Regression analysis**"
      ]
    },
    {
      "cell_type": "code",
      "metadata": {
        "colab": {
          "base_uri": "https://localhost:8080/",
          "height": 390
        },
        "id": "WXXBxMOPqSi_",
        "outputId": "9994a112-76d4-454d-dc2d-7ba7e88af8b7"
      },
      "source": [
        "history = nio.history(period=\"Max\")\n",
        "df = pd.DataFrame(history)\n",
        "df.head(10)"
      ],
      "execution_count": null,
      "outputs": [
        {
          "output_type": "execute_result",
          "data": {
            "text/html": [
              "<div>\n",
              "<style scoped>\n",
              "    .dataframe tbody tr th:only-of-type {\n",
              "        vertical-align: middle;\n",
              "    }\n",
              "\n",
              "    .dataframe tbody tr th {\n",
              "        vertical-align: top;\n",
              "    }\n",
              "\n",
              "    .dataframe thead th {\n",
              "        text-align: right;\n",
              "    }\n",
              "</style>\n",
              "<table border=\"1\" class=\"dataframe\">\n",
              "  <thead>\n",
              "    <tr style=\"text-align: right;\">\n",
              "      <th></th>\n",
              "      <th>Open</th>\n",
              "      <th>High</th>\n",
              "      <th>Low</th>\n",
              "      <th>Close</th>\n",
              "      <th>Volume</th>\n",
              "      <th>Dividends</th>\n",
              "      <th>Stock Splits</th>\n",
              "    </tr>\n",
              "    <tr>\n",
              "      <th>Date</th>\n",
              "      <th></th>\n",
              "      <th></th>\n",
              "      <th></th>\n",
              "      <th></th>\n",
              "      <th></th>\n",
              "      <th></th>\n",
              "      <th></th>\n",
              "    </tr>\n",
              "  </thead>\n",
              "  <tbody>\n",
              "    <tr>\n",
              "      <th>2018-09-12</th>\n",
              "      <td>6.00</td>\n",
              "      <td>6.93</td>\n",
              "      <td>5.35</td>\n",
              "      <td>6.60</td>\n",
              "      <td>66849000</td>\n",
              "      <td>0</td>\n",
              "      <td>0</td>\n",
              "    </tr>\n",
              "    <tr>\n",
              "      <th>2018-09-13</th>\n",
              "      <td>6.62</td>\n",
              "      <td>12.69</td>\n",
              "      <td>6.52</td>\n",
              "      <td>11.60</td>\n",
              "      <td>158346500</td>\n",
              "      <td>0</td>\n",
              "      <td>0</td>\n",
              "    </tr>\n",
              "    <tr>\n",
              "      <th>2018-09-14</th>\n",
              "      <td>12.66</td>\n",
              "      <td>13.80</td>\n",
              "      <td>9.22</td>\n",
              "      <td>9.90</td>\n",
              "      <td>172473600</td>\n",
              "      <td>0</td>\n",
              "      <td>0</td>\n",
              "    </tr>\n",
              "    <tr>\n",
              "      <th>2018-09-17</th>\n",
              "      <td>9.61</td>\n",
              "      <td>9.75</td>\n",
              "      <td>8.50</td>\n",
              "      <td>8.50</td>\n",
              "      <td>56323900</td>\n",
              "      <td>0</td>\n",
              "      <td>0</td>\n",
              "    </tr>\n",
              "    <tr>\n",
              "      <th>2018-09-18</th>\n",
              "      <td>8.73</td>\n",
              "      <td>9.10</td>\n",
              "      <td>7.67</td>\n",
              "      <td>7.68</td>\n",
              "      <td>41827600</td>\n",
              "      <td>0</td>\n",
              "      <td>0</td>\n",
              "    </tr>\n",
              "    <tr>\n",
              "      <th>2018-09-19</th>\n",
              "      <td>7.88</td>\n",
              "      <td>9.15</td>\n",
              "      <td>7.54</td>\n",
              "      <td>8.50</td>\n",
              "      <td>48306500</td>\n",
              "      <td>0</td>\n",
              "      <td>0</td>\n",
              "    </tr>\n",
              "    <tr>\n",
              "      <th>2018-09-20</th>\n",
              "      <td>9.07</td>\n",
              "      <td>9.47</td>\n",
              "      <td>8.42</td>\n",
              "      <td>8.78</td>\n",
              "      <td>40275000</td>\n",
              "      <td>0</td>\n",
              "      <td>0</td>\n",
              "    </tr>\n",
              "    <tr>\n",
              "      <th>2018-09-21</th>\n",
              "      <td>9.05</td>\n",
              "      <td>9.07</td>\n",
              "      <td>8.50</td>\n",
              "      <td>8.59</td>\n",
              "      <td>15118500</td>\n",
              "      <td>0</td>\n",
              "      <td>0</td>\n",
              "    </tr>\n",
              "    <tr>\n",
              "      <th>2018-09-24</th>\n",
              "      <td>8.32</td>\n",
              "      <td>8.39</td>\n",
              "      <td>7.85</td>\n",
              "      <td>7.87</td>\n",
              "      <td>16297900</td>\n",
              "      <td>0</td>\n",
              "      <td>0</td>\n",
              "    </tr>\n",
              "    <tr>\n",
              "      <th>2018-09-25</th>\n",
              "      <td>8.06</td>\n",
              "      <td>8.19</td>\n",
              "      <td>7.50</td>\n",
              "      <td>7.58</td>\n",
              "      <td>18909300</td>\n",
              "      <td>0</td>\n",
              "      <td>0</td>\n",
              "    </tr>\n",
              "  </tbody>\n",
              "</table>\n",
              "</div>"
            ],
            "text/plain": [
              "             Open   High   Low  Close     Volume  Dividends  Stock Splits\n",
              "Date                                                                     \n",
              "2018-09-12   6.00   6.93  5.35   6.60   66849000          0             0\n",
              "2018-09-13   6.62  12.69  6.52  11.60  158346500          0             0\n",
              "2018-09-14  12.66  13.80  9.22   9.90  172473600          0             0\n",
              "2018-09-17   9.61   9.75  8.50   8.50   56323900          0             0\n",
              "2018-09-18   8.73   9.10  7.67   7.68   41827600          0             0\n",
              "2018-09-19   7.88   9.15  7.54   8.50   48306500          0             0\n",
              "2018-09-20   9.07   9.47  8.42   8.78   40275000          0             0\n",
              "2018-09-21   9.05   9.07  8.50   8.59   15118500          0             0\n",
              "2018-09-24   8.32   8.39  7.85   7.87   16297900          0             0\n",
              "2018-09-25   8.06   8.19  7.50   7.58   18909300          0             0"
            ]
          },
          "metadata": {
            "tags": []
          },
          "execution_count": 6
        }
      ]
    },
    {
      "cell_type": "code",
      "metadata": {
        "colab": {
          "base_uri": "https://localhost:8080/"
        },
        "id": "pvFhyh2Lqeey",
        "outputId": "06d4be3e-ac05-4b09-f26d-ddb809447c8c"
      },
      "source": [
        "# defining x and y \n",
        "x = df.index\n",
        "y = df['Close']\n",
        "y"
      ],
      "execution_count": null,
      "outputs": [
        {
          "output_type": "execute_result",
          "data": {
            "text/plain": [
              "Date\n",
              "2018-09-12     6.600000\n",
              "2018-09-13    11.600000\n",
              "2018-09-14     9.900000\n",
              "2018-09-17     8.500000\n",
              "2018-09-18     7.680000\n",
              "                ...    \n",
              "2021-07-26    43.169998\n",
              "2021-07-27    39.360001\n",
              "2021-07-28    41.840000\n",
              "2021-07-29    42.619999\n",
              "2021-07-30    44.965000\n",
              "Name: Close, Length: 726, dtype: float64"
            ]
          },
          "metadata": {
            "tags": []
          },
          "execution_count": 7
        }
      ]
    },
    {
      "cell_type": "code",
      "metadata": {
        "id": "E6UtlBgSqzQb"
      },
      "source": [
        "# Data Exploration\n",
        "# i like to set up a plot function so i can reuse it at later stages of this analysis \n",
        "def df_plot(data, x, y, title=\"\", xlabel='Date', ylabel='Value', dpi=100):\n",
        "    plt.figure(figsize=(16,5), dpi=dpi)\n",
        "    plt.plot(x, y, color='tab:red')\n",
        "    plt.gca().set(title=title, xlabel=xlabel, ylabel=ylabel)\n",
        "    plt.show()"
      ],
      "execution_count": null,
      "outputs": []
    },
    {
      "cell_type": "code",
      "metadata": {
        "colab": {
          "base_uri": "https://localhost:8080/",
          "height": 339
        },
        "id": "9Rj7IqvNrjsn",
        "outputId": "ae21434a-5912-4a87-a510-26a978799b27"
      },
      "source": [
        "stock_name= \"NIO\"\n",
        "title = (stock_name,\"History stock performance till date\")\n",
        "df_plot(df , x , y , title=title,xlabel='Date', ylabel='Value',dpi=100)"
      ],
      "execution_count": null,
      "outputs": [
        {
          "output_type": "display_data",
          "data": {
            "image/png": "[encoded data removed]",
            "text/plain": [
              "<Figure size 1600x500 with 1 Axes>"
            ]
          },
          "metadata": {
            "tags": []
          }
        }
      ]
    },
    {
      "cell_type": "code",
      "metadata": {
        "id": "bVqkFHAYrrAm"
      },
      "source": [
        "# Data Processing and scaling\n",
        "df.reset_index(inplace=True) # to reset index and convert it to column"
      ],
      "execution_count": null,
      "outputs": []
    },
    {
      "cell_type": "code",
      "metadata": {
        "colab": {
          "base_uri": "https://localhost:8080/",
          "height": 111
        },
        "id": "7znKLTx-sWWa",
        "outputId": "ba9441c6-f194-4597-fc00-d00bdba339d4"
      },
      "source": [
        "df.head(2)"
      ],
      "execution_count": null,
      "outputs": [
        {
          "output_type": "execute_result",
          "data": {
            "text/html": [
              "<div>\n",
              "<style scoped>\n",
              "    .dataframe tbody tr th:only-of-type {\n",
              "        vertical-align: middle;\n",
              "    }\n",
              "\n",
              "    .dataframe tbody tr th {\n",
              "        vertical-align: top;\n",
              "    }\n",
              "\n",
              "    .dataframe thead th {\n",
              "        text-align: right;\n",
              "    }\n",
              "</style>\n",
              "<table border=\"1\" class=\"dataframe\">\n",
              "  <thead>\n",
              "    <tr style=\"text-align: right;\">\n",
              "      <th></th>\n",
              "      <th>Date</th>\n",
              "      <th>Open</th>\n",
              "      <th>High</th>\n",
              "      <th>Low</th>\n",
              "      <th>Close</th>\n",
              "      <th>Volume</th>\n",
              "      <th>Dividends</th>\n",
              "      <th>Stock Splits</th>\n",
              "    </tr>\n",
              "  </thead>\n",
              "  <tbody>\n",
              "    <tr>\n",
              "      <th>0</th>\n",
              "      <td>2018-09-12</td>\n",
              "      <td>6.00</td>\n",
              "      <td>6.93</td>\n",
              "      <td>5.35</td>\n",
              "      <td>6.6</td>\n",
              "      <td>66849000</td>\n",
              "      <td>0</td>\n",
              "      <td>0</td>\n",
              "    </tr>\n",
              "    <tr>\n",
              "      <th>1</th>\n",
              "      <td>2018-09-13</td>\n",
              "      <td>6.62</td>\n",
              "      <td>12.69</td>\n",
              "      <td>6.52</td>\n",
              "      <td>11.6</td>\n",
              "      <td>158346500</td>\n",
              "      <td>0</td>\n",
              "      <td>0</td>\n",
              "    </tr>\n",
              "  </tbody>\n",
              "</table>\n",
              "</div>"
            ],
            "text/plain": [
              "        Date  Open   High   Low  Close     Volume  Dividends  Stock Splits\n",
              "0 2018-09-12  6.00   6.93  5.35    6.6   66849000          0             0\n",
              "1 2018-09-13  6.62  12.69  6.52   11.6  158346500          0             0"
            ]
          },
          "metadata": {
            "tags": []
          },
          "execution_count": 11
        }
      ]
    },
    {
      "cell_type": "code",
      "metadata": {
        "colab": {
          "base_uri": "https://localhost:8080/",
          "height": 111
        },
        "id": "53puyB3rtwG8",
        "outputId": "c1f93bdc-301a-4bc1-eebd-8b7d2a14845a"
      },
      "source": [
        "df.drop(columns=['Dividends','Stock Splits']).head(2) # We are dropping un necessary columns from the set"
      ],
      "execution_count": null,
      "outputs": [
        {
          "output_type": "execute_result",
          "data": {
            "text/html": [
              "<div>\n",
              "<style scoped>\n",
              "    .dataframe tbody tr th:only-of-type {\n",
              "        vertical-align: middle;\n",
              "    }\n",
              "\n",
              "    .dataframe tbody tr th {\n",
              "        vertical-align: top;\n",
              "    }\n",
              "\n",
              "    .dataframe thead th {\n",
              "        text-align: right;\n",
              "    }\n",
              "</style>\n",
              "<table border=\"1\" class=\"dataframe\">\n",
              "  <thead>\n",
              "    <tr style=\"text-align: right;\">\n",
              "      <th></th>\n",
              "      <th>Date</th>\n",
              "      <th>Open</th>\n",
              "      <th>High</th>\n",
              "      <th>Low</th>\n",
              "      <th>Close</th>\n",
              "      <th>Volume</th>\n",
              "    </tr>\n",
              "  </thead>\n",
              "  <tbody>\n",
              "    <tr>\n",
              "      <th>0</th>\n",
              "      <td>2018-09-12</td>\n",
              "      <td>6.00</td>\n",
              "      <td>6.93</td>\n",
              "      <td>5.35</td>\n",
              "      <td>6.6</td>\n",
              "      <td>66849000</td>\n",
              "    </tr>\n",
              "    <tr>\n",
              "      <th>1</th>\n",
              "      <td>2018-09-13</td>\n",
              "      <td>6.62</td>\n",
              "      <td>12.69</td>\n",
              "      <td>6.52</td>\n",
              "      <td>11.6</td>\n",
              "      <td>158346500</td>\n",
              "    </tr>\n",
              "  </tbody>\n",
              "</table>\n",
              "</div>"
            ],
            "text/plain": [
              "        Date  Open   High   Low  Close     Volume\n",
              "0 2018-09-12  6.00   6.93  5.35    6.6   66849000\n",
              "1 2018-09-13  6.62  12.69  6.52   11.6  158346500"
            ]
          },
          "metadata": {
            "tags": []
          },
          "execution_count": 12
        }
      ]
    },
    {
      "cell_type": "code",
      "metadata": {
        "colab": {
          "base_uri": "https://localhost:8080/",
          "height": 297
        },
        "id": "sdrgyQUst96D",
        "outputId": "8a85391f-2bee-4d92-f2cb-e0e9769bc4c6"
      },
      "source": [
        "df['Date'] = pd.to_datetime(df.Date)\n",
        "df.describe()"
      ],
      "execution_count": null,
      "outputs": [
        {
          "output_type": "execute_result",
          "data": {
            "text/html": [
              "<div>\n",
              "<style scoped>\n",
              "    .dataframe tbody tr th:only-of-type {\n",
              "        vertical-align: middle;\n",
              "    }\n",
              "\n",
              "    .dataframe tbody tr th {\n",
              "        vertical-align: top;\n",
              "    }\n",
              "\n",
              "    .dataframe thead th {\n",
              "        text-align: right;\n",
              "    }\n",
              "</style>\n",
              "<table border=\"1\" class=\"dataframe\">\n",
              "  <thead>\n",
              "    <tr style=\"text-align: right;\">\n",
              "      <th></th>\n",
              "      <th>Open</th>\n",
              "      <th>High</th>\n",
              "      <th>Low</th>\n",
              "      <th>Close</th>\n",
              "      <th>Volume</th>\n",
              "      <th>Dividends</th>\n",
              "      <th>Stock Splits</th>\n",
              "    </tr>\n",
              "  </thead>\n",
              "  <tbody>\n",
              "    <tr>\n",
              "      <th>count</th>\n",
              "      <td>726.000000</td>\n",
              "      <td>726.000000</td>\n",
              "      <td>726.000000</td>\n",
              "      <td>726.000000</td>\n",
              "      <td>7.260000e+02</td>\n",
              "      <td>726.0</td>\n",
              "      <td>726.0</td>\n",
              "    </tr>\n",
              "    <tr>\n",
              "      <th>mean</th>\n",
              "      <td>16.663388</td>\n",
              "      <td>17.235275</td>\n",
              "      <td>16.033196</td>\n",
              "      <td>16.669952</td>\n",
              "      <td>6.931465e+07</td>\n",
              "      <td>0.0</td>\n",
              "      <td>0.0</td>\n",
              "    </tr>\n",
              "    <tr>\n",
              "      <th>std</th>\n",
              "      <td>18.072904</td>\n",
              "      <td>18.628109</td>\n",
              "      <td>17.405953</td>\n",
              "      <td>18.059001</td>\n",
              "      <td>7.239510e+07</td>\n",
              "      <td>0.0</td>\n",
              "      <td>0.0</td>\n",
              "    </tr>\n",
              "    <tr>\n",
              "      <th>min</th>\n",
              "      <td>1.190000</td>\n",
              "      <td>1.450000</td>\n",
              "      <td>1.190000</td>\n",
              "      <td>1.320000</td>\n",
              "      <td>5.111000e+06</td>\n",
              "      <td>0.0</td>\n",
              "      <td>0.0</td>\n",
              "    </tr>\n",
              "    <tr>\n",
              "      <th>25%</th>\n",
              "      <td>3.440000</td>\n",
              "      <td>3.540000</td>\n",
              "      <td>3.320000</td>\n",
              "      <td>3.440000</td>\n",
              "      <td>2.231295e+07</td>\n",
              "      <td>0.0</td>\n",
              "      <td>0.0</td>\n",
              "    </tr>\n",
              "    <tr>\n",
              "      <th>50%</th>\n",
              "      <td>6.770000</td>\n",
              "      <td>6.980000</td>\n",
              "      <td>6.530000</td>\n",
              "      <td>6.790000</td>\n",
              "      <td>4.958560e+07</td>\n",
              "      <td>0.0</td>\n",
              "      <td>0.0</td>\n",
              "    </tr>\n",
              "    <tr>\n",
              "      <th>75%</th>\n",
              "      <td>33.779999</td>\n",
              "      <td>34.712499</td>\n",
              "      <td>32.492500</td>\n",
              "      <td>33.777501</td>\n",
              "      <td>8.444840e+07</td>\n",
              "      <td>0.0</td>\n",
              "      <td>0.0</td>\n",
              "    </tr>\n",
              "    <tr>\n",
              "      <th>max</th>\n",
              "      <td>64.949997</td>\n",
              "      <td>66.989998</td>\n",
              "      <td>62.189999</td>\n",
              "      <td>62.840000</td>\n",
              "      <td>5.771851e+08</td>\n",
              "      <td>0.0</td>\n",
              "      <td>0.0</td>\n",
              "    </tr>\n",
              "  </tbody>\n",
              "</table>\n",
              "</div>"
            ],
            "text/plain": [
              "             Open        High  ...  Dividends  Stock Splits\n",
              "count  726.000000  726.000000  ...      726.0         726.0\n",
              "mean    16.663388   17.235275  ...        0.0           0.0\n",
              "std     18.072904   18.628109  ...        0.0           0.0\n",
              "min      1.190000    1.450000  ...        0.0           0.0\n",
              "25%      3.440000    3.540000  ...        0.0           0.0\n",
              "50%      6.770000    6.980000  ...        0.0           0.0\n",
              "75%     33.779999   34.712499  ...        0.0           0.0\n",
              "max     64.949997   66.989998  ...        0.0           0.0\n",
              "\n",
              "[8 rows x 7 columns]"
            ]
          },
          "metadata": {
            "tags": []
          },
          "execution_count": 13
        }
      ]
    },
    {
      "cell_type": "code",
      "metadata": {
        "colab": {
          "base_uri": "https://localhost:8080/"
        },
        "id": "myF8nVbJudhk",
        "outputId": "3b522588-6fa0-4f5d-8fad-1655e1838407"
      },
      "source": [
        "print(len(df))\n",
        "649"
      ],
      "execution_count": null,
      "outputs": [
        {
          "output_type": "stream",
          "text": [
            "726\n"
          ],
          "name": "stdout"
        },
        {
          "output_type": "execute_result",
          "data": {
            "text/plain": [
              "649"
            ]
          },
          "metadata": {
            "tags": []
          },
          "execution_count": 14
        }
      ]
    },
    {
      "cell_type": "code",
      "metadata": {
        "id": "qX1-A2alussQ"
      },
      "source": [
        "x = df[['Open', 'High','Low', 'Volume']]\n",
        "y = df['Close']"
      ],
      "execution_count": null,
      "outputs": []
    },
    {
      "cell_type": "markdown",
      "metadata": {
        "id": "kIidqGTB7d9-"
      },
      "source": [
        "#**Splitting the Data**"
      ]
    },
    {
      "cell_type": "code",
      "metadata": {
        "id": "ndEQqADRuwlx"
      },
      "source": [
        "# Linear regression Model for stock prediction \n",
        "train_x, test_x, train_y, test_y = train_test_split(x, y, test_size=0.15 , shuffle=False,random_state = 0)"
      ],
      "execution_count": null,
      "outputs": []
    },
    {
      "cell_type": "markdown",
      "metadata": {
        "id": "zPTVJ0h_8GLG"
      },
      "source": [
        "#**Regression algorithm model implementation**"
      ]
    },
    {
      "cell_type": "markdown",
      "metadata": {
        "id": "BGFZZW8ZB6vw"
      },
      "source": [
        "##**Equation for linear regression**"
      ]
    },
    {
      "cell_type": "code",
      "metadata": {
        "colab": {
          "base_uri": "https://localhost:8080/",
          "height": 234
        },
        "id": "OseVCca790di",
        "outputId": "84686d85-1c75-441e-d582-d9e6036b1655"
      },
      "source": [
        "from IPython.display import Image\n",
        "print(\"**Linear Regression Formula**\")\n",
        "Image(filename=\"lineformula.jpg\", width= 400, height=200)"
      ],
      "execution_count": null,
      "outputs": [
        {
          "output_type": "stream",
          "text": [
            "**Linear Regression Formula**\n"
          ],
          "name": "stdout"
        },
        {
          "output_type": "execute_result",
          "data": {
            "image/jpeg": "[encoded data removed]",
            "text/plain": [
              "<IPython.core.display.Image object>"
            ]
          },
          "metadata": {
            "tags": [],
            "image/jpeg": {
              "width": 400,
              "height": 200
            }
          },
          "execution_count": 40
        }
      ]
    },
    {
      "cell_type": "markdown",
      "metadata": {
        "id": "es_HkkuwCc2j"
      },
      "source": [
        "#**Regression Formula**"
      ]
    },
    {
      "cell_type": "code",
      "metadata": {
        "colab": {
          "base_uri": "https://localhost:8080/",
          "height": 144
        },
        "id": "8s2w9O9Z_HLJ",
        "outputId": "d49a85e3-f210-44eb-ceb6-6e6f3c58d736"
      },
      "source": [
        "from IPython.display import Image\n",
        "print(\"**Regression Formula**\")\n",
        "Image(filename=\"bin.jpg\", width= 380, height=110)"
      ],
      "execution_count": null,
      "outputs": [
        {
          "output_type": "stream",
          "text": [
            "**Regression Formula**\n"
          ],
          "name": "stdout"
        },
        {
          "output_type": "execute_result",
          "data": {
            "image/jpeg": "[encoded data removed]",
            "text/plain": [
              "<IPython.core.display.Image object>"
            ]
          },
          "metadata": {
            "tags": [],
            "image/jpeg": {
              "width": 380,
              "height": 110
            }
          },
          "execution_count": 42
        }
      ]
    },
    {
      "cell_type": "markdown",
      "metadata": {
        "id": "uYOZ6c3UEgS4"
      },
      "source": [
        "Where, x1, x2,….xn represents the independent variables while the coefficients θ1, θ2, θn represent the weights."
      ]
    },
    {
      "cell_type": "code",
      "metadata": {
        "colab": {
          "base_uri": "https://localhost:8080/"
        },
        "id": "mhZj3gZsu_Rb",
        "outputId": "bb16b756-13b5-4c61-b9c8-82b5ed0ba5ff"
      },
      "source": [
        "print(train_x.shape )\n",
        "print(test_x.shape)\n",
        "print(train_y.shape)\n",
        "print(test_y.shape)\n",
        "(551, 4)\n",
        "(98, 4)\n",
        "(551,)\n",
        "(98,)"
      ],
      "execution_count": null,
      "outputs": [
        {
          "output_type": "stream",
          "text": [
            "(617, 4)\n",
            "(109, 4)\n",
            "(617,)\n",
            "(109,)\n"
          ],
          "name": "stdout"
        },
        {
          "output_type": "execute_result",
          "data": {
            "text/plain": [
              "(98,)"
            ]
          },
          "metadata": {
            "tags": []
          },
          "execution_count": 17
        }
      ]
    },
    {
      "cell_type": "markdown",
      "metadata": {
        "id": "L7VWKYiB8TBy"
      },
      "source": [
        "#**Prediction and Estimation**"
      ]
    },
    {
      "cell_type": "markdown",
      "metadata": {
        "id": "dSu_nlH1EoV5"
      },
      "source": [
        "##**The coefficient of determination R²**"
      ]
    },
    {
      "cell_type": "code",
      "metadata": {
        "colab": {
          "base_uri": "https://localhost:8080/"
        },
        "id": "iV0n0wTMvKKb",
        "outputId": "3fab7777-4d9d-4016-98fa-61995be2fd9a"
      },
      "source": [
        "from sklearn.linear_model import LinearRegression\n",
        "from sklearn.metrics import confusion_matrix, accuracy_score\n",
        "regression = LinearRegression()\n",
        "regression.fit(train_x, train_y)\n",
        "print(\"regression coefficient\",regression.coef_)\n",
        "print(\"regression intercept\",regression.intercept_)\n"
      ],
      "execution_count": null,
      "outputs": [
        {
          "output_type": "stream",
          "text": [
            "regression coefficient [-7.33849464e-01  1.01851192e+00  7.12608253e-01 -9.60188817e-10]\n",
            "regression intercept 0.008068603648911932\n"
          ],
          "name": "stdout"
        }
      ]
    },
    {
      "cell_type": "code",
      "metadata": {
        "colab": {
          "base_uri": "https://localhost:8080/"
        },
        "id": "KaW6UEehwfsL",
        "outputId": "ce5b024e-6fa5-47de-a4f3-dd180d9ba2b7"
      },
      "source": [
        "# the coefficient of determination R² \n",
        "regression_confidence = regression.score(test_x, test_y)\n",
        "print(\"linear regression confidence: \", regression_confidence)"
      ],
      "execution_count": null,
      "outputs": [
        {
          "output_type": "stream",
          "text": [
            "linear regression confidence:  0.9739279540068604\n"
          ],
          "name": "stdout"
        }
      ]
    },
    {
      "cell_type": "markdown",
      "metadata": {
        "id": "bSY5SnNg8ezk"
      },
      "source": [
        "#**Prediction**"
      ]
    },
    {
      "cell_type": "code",
      "metadata": {
        "colab": {
          "base_uri": "https://localhost:8080/"
        },
        "id": "-rY44D1kxn0i",
        "outputId": "f523f4dd-af39-446b-f67d-6c0e7a59c74b"
      },
      "source": [
        "predicted=regression.predict(test_x)\n",
        "print(test_x.head())"
      ],
      "execution_count": null,
      "outputs": [
        {
          "output_type": "stream",
          "text": [
            "          Open       High        Low     Volume\n",
            "617  51.599998  51.849998  46.009998   95513800\n",
            "618  47.000000  47.950001  44.619999  100315500\n",
            "619  48.549999  50.419998  47.630001   94238500\n",
            "620  46.110001  47.130001  42.660000  161334000\n",
            "621  44.580002  45.080002  41.110001  107863400\n"
          ],
          "name": "stdout"
        }
      ]
    },
    {
      "cell_type": "code",
      "metadata": {
        "id": "hcWLHhma6SJA",
        "colab": {
          "base_uri": "https://localhost:8080/"
        },
        "outputId": "4e823096-e12e-4cd6-bfe1-33fb8ff7b3b9"
      },
      "source": [
        "predicted.shape"
      ],
      "execution_count": null,
      "outputs": [
        {
          "output_type": "execute_result",
          "data": {
            "text/plain": [
              "(109,)"
            ]
          },
          "metadata": {
            "tags": []
          },
          "execution_count": 21
        }
      ]
    },
    {
      "cell_type": "markdown",
      "metadata": {
        "id": "6THF_-sk8meo"
      },
      "source": [
        "#**Prediction Table of Actual Prices vs Predicted values**"
      ]
    },
    {
      "cell_type": "code",
      "metadata": {
        "colab": {
          "base_uri": "https://localhost:8080/",
          "height": 359
        },
        "id": "xYrArhjZ3hU2",
        "outputId": "5c047a4e-ab13-4375-e1c7-a484a5a68378"
      },
      "source": [
        "dfr=pd.DataFrame({'Actual_Price':test_y, 'Predicted_Price':predicted})\n",
        "dfr.head(10)"
      ],
      "execution_count": null,
      "outputs": [
        {
          "output_type": "execute_result",
          "data": {
            "text/html": [
              "<div>\n",
              "<style scoped>\n",
              "    .dataframe tbody tr th:only-of-type {\n",
              "        vertical-align: middle;\n",
              "    }\n",
              "\n",
              "    .dataframe tbody tr th {\n",
              "        vertical-align: top;\n",
              "    }\n",
              "\n",
              "    .dataframe thead th {\n",
              "        text-align: right;\n",
              "    }\n",
              "</style>\n",
              "<table border=\"1\" class=\"dataframe\">\n",
              "  <thead>\n",
              "    <tr style=\"text-align: right;\">\n",
              "      <th></th>\n",
              "      <th>Actual_Price</th>\n",
              "      <th>Predicted_Price</th>\n",
              "    </tr>\n",
              "  </thead>\n",
              "  <tbody>\n",
              "    <tr>\n",
              "      <th>617</th>\n",
              "      <td>46.810001</td>\n",
              "      <td>47.646672</td>\n",
              "    </tr>\n",
              "    <tr>\n",
              "      <th>618</th>\n",
              "      <td>45.779999</td>\n",
              "      <td>46.055049</td>\n",
              "    </tr>\n",
              "    <tr>\n",
              "      <th>619</th>\n",
              "      <td>49.759998</td>\n",
              "      <td>49.584092</td>\n",
              "    </tr>\n",
              "    <tr>\n",
              "      <th>620</th>\n",
              "      <td>43.290001</td>\n",
              "      <td>44.417694</td>\n",
              "    </tr>\n",
              "    <tr>\n",
              "      <th>621</th>\n",
              "      <td>41.529999</td>\n",
              "      <td>42.399334</td>\n",
              "    </tr>\n",
              "    <tr>\n",
              "      <th>622</th>\n",
              "      <td>39.279999</td>\n",
              "      <td>40.099231</td>\n",
              "    </tr>\n",
              "    <tr>\n",
              "      <th>623</th>\n",
              "      <td>38.110001</td>\n",
              "      <td>34.299191</td>\n",
              "    </tr>\n",
              "    <tr>\n",
              "      <th>624</th>\n",
              "      <td>35.209999</td>\n",
              "      <td>37.821153</td>\n",
              "    </tr>\n",
              "    <tr>\n",
              "      <th>625</th>\n",
              "      <td>41.349998</td>\n",
              "      <td>41.217256</td>\n",
              "    </tr>\n",
              "    <tr>\n",
              "      <th>626</th>\n",
              "      <td>41.320000</td>\n",
              "      <td>42.682741</td>\n",
              "    </tr>\n",
              "  </tbody>\n",
              "</table>\n",
              "</div>"
            ],
            "text/plain": [
              "     Actual_Price  Predicted_Price\n",
              "617     46.810001        47.646672\n",
              "618     45.779999        46.055049\n",
              "619     49.759998        49.584092\n",
              "620     43.290001        44.417694\n",
              "621     41.529999        42.399334\n",
              "622     39.279999        40.099231\n",
              "623     38.110001        34.299191\n",
              "624     35.209999        37.821153\n",
              "625     41.349998        41.217256\n",
              "626     41.320000        42.682741"
            ]
          },
          "metadata": {
            "tags": []
          },
          "execution_count": 22
        }
      ]
    },
    {
      "cell_type": "code",
      "metadata": {
        "colab": {
          "base_uri": "https://localhost:8080/",
          "height": 297
        },
        "id": "COoAF2TV4ZRx",
        "outputId": "c7f4f35e-b6b9-436b-c5b3-eb00734a6329"
      },
      "source": [
        "dfr.describe()"
      ],
      "execution_count": null,
      "outputs": [
        {
          "output_type": "execute_result",
          "data": {
            "text/html": [
              "<div>\n",
              "<style scoped>\n",
              "    .dataframe tbody tr th:only-of-type {\n",
              "        vertical-align: middle;\n",
              "    }\n",
              "\n",
              "    .dataframe tbody tr th {\n",
              "        vertical-align: top;\n",
              "    }\n",
              "\n",
              "    .dataframe thead th {\n",
              "        text-align: right;\n",
              "    }\n",
              "</style>\n",
              "<table border=\"1\" class=\"dataframe\">\n",
              "  <thead>\n",
              "    <tr style=\"text-align: right;\">\n",
              "      <th></th>\n",
              "      <th>Actual_Price</th>\n",
              "      <th>Predicted_Price</th>\n",
              "    </tr>\n",
              "  </thead>\n",
              "  <tbody>\n",
              "    <tr>\n",
              "      <th>count</th>\n",
              "      <td>109.000000</td>\n",
              "      <td>109.000000</td>\n",
              "    </tr>\n",
              "    <tr>\n",
              "      <th>mean</th>\n",
              "      <td>41.363532</td>\n",
              "      <td>41.515819</td>\n",
              "    </tr>\n",
              "    <tr>\n",
              "      <th>std</th>\n",
              "      <td>4.603500</td>\n",
              "      <td>4.650928</td>\n",
              "    </tr>\n",
              "    <tr>\n",
              "      <th>min</th>\n",
              "      <td>31.219999</td>\n",
              "      <td>31.846707</td>\n",
              "    </tr>\n",
              "    <tr>\n",
              "      <th>25%</th>\n",
              "      <td>37.759998</td>\n",
              "      <td>37.769547</td>\n",
              "    </tr>\n",
              "    <tr>\n",
              "      <th>50%</th>\n",
              "      <td>41.349998</td>\n",
              "      <td>41.974709</td>\n",
              "    </tr>\n",
              "    <tr>\n",
              "      <th>75%</th>\n",
              "      <td>44.965000</td>\n",
              "      <td>44.925886</td>\n",
              "    </tr>\n",
              "    <tr>\n",
              "      <th>max</th>\n",
              "      <td>53.200001</td>\n",
              "      <td>53.660623</td>\n",
              "    </tr>\n",
              "  </tbody>\n",
              "</table>\n",
              "</div>"
            ],
            "text/plain": [
              "       Actual_Price  Predicted_Price\n",
              "count    109.000000       109.000000\n",
              "mean      41.363532        41.515819\n",
              "std        4.603500         4.650928\n",
              "min       31.219999        31.846707\n",
              "25%       37.759998        37.769547\n",
              "50%       41.349998        41.974709\n",
              "75%       44.965000        44.925886\n",
              "max       53.200001        53.660623"
            ]
          },
          "metadata": {
            "tags": []
          },
          "execution_count": 23
        }
      ]
    },
    {
      "cell_type": "markdown",
      "metadata": {
        "id": "Psd76g_g8wFB"
      },
      "source": [
        "#**Model Evaluation**"
      ]
    },
    {
      "cell_type": "markdown",
      "metadata": {
        "id": "tMK6EGW480pm"
      },
      "source": [
        "##**Mean Absolute Error (MAE):**"
      ]
    },
    {
      "cell_type": "code",
      "metadata": {
        "colab": {
          "base_uri": "https://localhost:8080/",
          "height": 234
        },
        "id": "PDf6mp7e5KeZ",
        "outputId": "d5d08401-cc4b-44bd-f16d-d818d18ea96b"
      },
      "source": [
        "print(\"**Mean Absolute Error (MAE)**\")\n",
        "from IPython.display import Image\n",
        "Image(filename=\"map.jpg\", width= 600, height=200)"
      ],
      "execution_count": null,
      "outputs": [
        {
          "output_type": "stream",
          "text": [
            "**Mean Absolute Error (MAE)**\n"
          ],
          "name": "stdout"
        },
        {
          "output_type": "execute_result",
          "data": {
            "image/jpeg": "[encoded data removed]",
            "text/plain": [
              "<IPython.core.display.Image object>"
            ]
          },
          "metadata": {
            "tags": [],
            "image/jpeg": {
              "width": 600,
              "height": 200
            }
          },
          "execution_count": 35
        }
      ]
    },
    {
      "cell_type": "markdown",
      "metadata": {
        "id": "Fjwp0PSQFK0B"
      },
      "source": [
        "##**Root mean squared error (RMSE):**"
      ]
    },
    {
      "cell_type": "code",
      "metadata": {
        "colab": {
          "base_uri": "https://localhost:8080/",
          "height": 284
        },
        "id": "DkPi18WB_8TH",
        "outputId": "8ede7fd2-bb04-4e04-f5d7-20755b4b2f06"
      },
      "source": [
        "from IPython.display import Image\n",
        "print(\"**Root mean squared error (RMSE)**\")\n",
        "Image(filename=\"rmse.jpg\", width= 600, height=250)"
      ],
      "execution_count": null,
      "outputs": [
        {
          "output_type": "stream",
          "text": [
            "**Root mean squared error (RMSE)**\n"
          ],
          "name": "stdout"
        },
        {
          "output_type": "execute_result",
          "data": {
            "image/jpeg": "[encoded data removed]",
            "text/plain": [
              "<IPython.core.display.Image object>"
            ]
          },
          "metadata": {
            "tags": [],
            "image/jpeg": {
              "width": 600,
              "height": 250
            }
          },
          "execution_count": 48
        }
      ]
    },
    {
      "cell_type": "markdown",
      "metadata": {
        "id": "xcaRl3SYFWNV"
      },
      "source": [
        "##**Mean squared error (MSE):**"
      ]
    },
    {
      "cell_type": "code",
      "metadata": {
        "colab": {
          "base_uri": "https://localhost:8080/",
          "height": 784
        },
        "id": "pwiZLvXLAbAK",
        "outputId": "26990aab-3bf6-4069-c888-5b31bd60a493"
      },
      "source": [
        "from IPython.display import Image\n",
        "print(\"** Mean squared error (MSE)**\")\n",
        "Image(filename=\"bigmse.jpg\", width= 700, height=750)"
      ],
      "execution_count": null,
      "outputs": [
        {
          "output_type": "stream",
          "text": [
            "** Mean squared error (MSE)**\n"
          ],
          "name": "stdout"
        },
        {
          "output_type": "execute_result",
          "data": {
            "image/jpeg": "[encoded data removed]",
            "text/plain": [
              "<IPython.core.display.Image object>"
            ]
          },
          "metadata": {
            "tags": [],
            "image/jpeg": {
              "width": 700,
              "height": 750
            }
          },
          "execution_count": 49
        }
      ]
    },
    {
      "cell_type": "code",
      "metadata": {
        "colab": {
          "base_uri": "https://localhost:8080/",
          "height": 784
        },
        "id": "ERvHe0UN_jSO",
        "outputId": "8e560e26-392c-4f9a-a2c4-72483b6320b5"
      },
      "source": [
        "from IPython.display import Image\n",
        "print(\"**List of equations**\")\n",
        "Image(filename=\"bigformula.jpg\", width= 700, height=750)"
      ],
      "execution_count": null,
      "outputs": [
        {
          "output_type": "stream",
          "text": [
            "**List of equations**\n"
          ],
          "name": "stdout"
        },
        {
          "output_type": "execute_result",
          "data": {
            "image/jpeg": "[encoded data removed]",
            "text/plain": [
              "<IPython.core.display.Image object>"
            ]
          },
          "metadata": {
            "tags": [],
            "image/jpeg": {
              "width": 700,
              "height": 750
            }
          },
          "execution_count": 45
        }
      ]
    },
    {
      "cell_type": "code",
      "metadata": {
        "colab": {
          "base_uri": "https://localhost:8080/"
        },
        "id": "5R0zKND04hK8",
        "outputId": "fbf2eb03-ead6-4ded-f28b-69460fcd3f35"
      },
      "source": [
        "print('Mean Absolute Error (MAE):', metrics.mean_absolute_error(test_y, predicted))\n",
        "print('Mean Squared Error (MSE) :', metrics.mean_squared_error(test_y, predicted))\n",
        "print('Root Mean Squared Error (RMSE):', np.sqrt(metrics.mean_squared_error(test_y, predicted)))"
      ],
      "execution_count": null,
      "outputs": [
        {
          "output_type": "stream",
          "text": [
            "Mean Absolute Error (MAE): 0.5382112739784346\n",
            "Mean Squared Error (MSE) : 0.5474552117639078\n",
            "Root Mean Squared Error (RMSE): 0.7399021636432129\n"
          ],
          "name": "stdout"
        }
      ]
    },
    {
      "cell_type": "code",
      "metadata": {
        "colab": {
          "base_uri": "https://localhost:8080/",
          "height": 297
        },
        "id": "6GJfyns84w6P",
        "outputId": "28059792-2a44-4a2c-e168-4fe87d381b89"
      },
      "source": [
        "dfr.describe()"
      ],
      "execution_count": null,
      "outputs": [
        {
          "output_type": "execute_result",
          "data": {
            "text/html": [
              "<div>\n",
              "<style scoped>\n",
              "    .dataframe tbody tr th:only-of-type {\n",
              "        vertical-align: middle;\n",
              "    }\n",
              "\n",
              "    .dataframe tbody tr th {\n",
              "        vertical-align: top;\n",
              "    }\n",
              "\n",
              "    .dataframe thead th {\n",
              "        text-align: right;\n",
              "    }\n",
              "</style>\n",
              "<table border=\"1\" class=\"dataframe\">\n",
              "  <thead>\n",
              "    <tr style=\"text-align: right;\">\n",
              "      <th></th>\n",
              "      <th>Actual_Price</th>\n",
              "      <th>Predicted_Price</th>\n",
              "    </tr>\n",
              "  </thead>\n",
              "  <tbody>\n",
              "    <tr>\n",
              "      <th>count</th>\n",
              "      <td>109.000000</td>\n",
              "      <td>109.000000</td>\n",
              "    </tr>\n",
              "    <tr>\n",
              "      <th>mean</th>\n",
              "      <td>41.363532</td>\n",
              "      <td>41.515819</td>\n",
              "    </tr>\n",
              "    <tr>\n",
              "      <th>std</th>\n",
              "      <td>4.603500</td>\n",
              "      <td>4.650928</td>\n",
              "    </tr>\n",
              "    <tr>\n",
              "      <th>min</th>\n",
              "      <td>31.219999</td>\n",
              "      <td>31.846707</td>\n",
              "    </tr>\n",
              "    <tr>\n",
              "      <th>25%</th>\n",
              "      <td>37.759998</td>\n",
              "      <td>37.769547</td>\n",
              "    </tr>\n",
              "    <tr>\n",
              "      <th>50%</th>\n",
              "      <td>41.349998</td>\n",
              "      <td>41.974709</td>\n",
              "    </tr>\n",
              "    <tr>\n",
              "      <th>75%</th>\n",
              "      <td>44.965000</td>\n",
              "      <td>44.925886</td>\n",
              "    </tr>\n",
              "    <tr>\n",
              "      <th>max</th>\n",
              "      <td>53.200001</td>\n",
              "      <td>53.660623</td>\n",
              "    </tr>\n",
              "  </tbody>\n",
              "</table>\n",
              "</div>"
            ],
            "text/plain": [
              "       Actual_Price  Predicted_Price\n",
              "count    109.000000       109.000000\n",
              "mean      41.363532        41.515819\n",
              "std        4.603500         4.650928\n",
              "min       31.219999        31.846707\n",
              "25%       37.759998        37.769547\n",
              "50%       41.349998        41.974709\n",
              "75%       44.965000        44.925886\n",
              "max       53.200001        53.660623"
            ]
          },
          "metadata": {
            "tags": []
          },
          "execution_count": 25
        }
      ]
    },
    {
      "cell_type": "code",
      "metadata": {
        "colab": {
          "base_uri": "https://localhost:8080/"
        },
        "id": "rvO4rL5N42sE",
        "outputId": "590f95d3-7b7e-4f8c-bc32-a5eb5762830d"
      },
      "source": [
        "x2 = dfr.Actual_Price.mean()\n",
        "y2 = dfr.Predicted_Price.mean()\n",
        "Accuracy1 = x2/y2*100\n",
        "print(\"The accuracy of the model is \" , Accuracy1)"
      ],
      "execution_count": null,
      "outputs": [
        {
          "output_type": "stream",
          "text": [
            "The accuracy of the model is  99.63318372677978\n"
          ],
          "name": "stdout"
        }
      ]
    },
    {
      "cell_type": "code",
      "metadata": {
        "colab": {
          "base_uri": "https://localhost:8080/",
          "height": 321
        },
        "id": "862_FS9248zT",
        "outputId": "70e01ecb-7f84-4fef-87f0-ed202bd74cb6"
      },
      "source": [
        "plt.scatter(dfr.Actual_Price, dfr.Predicted_Price,  color='Darkblue')\n",
        "plt.xlabel(\"Actual Price\")\n",
        "plt.ylabel(\"Predicted Price\")"
      ],
      "execution_count": null,
      "outputs": [
        {
          "output_type": "execute_result",
          "data": {
            "text/plain": [
              "Text(0, 0.5, 'Predicted Price')"
            ]
          },
          "metadata": {
            "tags": []
          },
          "execution_count": 27
        },
        {
          "output_type": "display_data",
          "data": {
            "image/png": "[encoded data removed]",
            "text/plain": [
              "<Figure size 432x288 with 1 Axes>"
            ]
          },
          "metadata": {
            "tags": []
          }
        }
      ]
    },
    {
      "cell_type": "code",
      "metadata": {
        "colab": {
          "base_uri": "https://localhost:8080/",
          "height": 320
        },
        "id": "zzGhmlF65BL4",
        "outputId": "81a952a5-9069-48f2-dc47-5251a39f7086"
      },
      "source": [
        "plt.plot(dfr.Actual_Price, color='black')\n",
        "plt.plot(dfr.Predicted_Price, color='lightblue')\n",
        "plt.title(\"Nio prediction chart\")"
      ],
      "execution_count": null,
      "outputs": [
        {
          "output_type": "execute_result",
          "data": {
            "text/plain": [
              "Text(0.5, 1.0, 'Nio prediction chart')"
            ]
          },
          "metadata": {
            "tags": []
          },
          "execution_count": 29
        },
        {
          "output_type": "display_data",
          "data": {
            "image/png": "[encoded data removed]",
            "text/plain": [
              "<Figure size 432x288 with 1 Axes>"
            ]
          },
          "metadata": {
            "tags": []
          }
        }
      ]
    },
    {
      "cell_type": "code",
      "metadata": {
        "id": "8tmWIAKCA2zg"
      },
      "source": [
        ""
      ],
      "execution_count": null,
      "outputs": []
    }
  ]
}